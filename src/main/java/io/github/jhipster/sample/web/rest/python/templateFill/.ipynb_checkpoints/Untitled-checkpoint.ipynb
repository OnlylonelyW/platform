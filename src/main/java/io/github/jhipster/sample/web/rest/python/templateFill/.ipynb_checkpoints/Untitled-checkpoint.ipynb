{
 "cells": [
  {
   "cell_type": "code",
   "execution_count": 1,
   "metadata": {
    "collapsed": false
   },
   "outputs": [
    {
     "data": {
      "text/plain": [
       "'\\nif __name__==\\'__main__\\':\\n    import sys\\n    if len(sys.argv)>2:\\n        print(\\'参数数目异常!\\')\\n    else:\\n        if len(sys.argv)==2:\\n            doc_transform(sys.argv[1])\\n            doc_transform(sys.argv[1], type=\"txt\")\\n        else:\\n            doc_transform()\\n'"
      ]
     },
     "execution_count": 1,
     "metadata": {},
     "output_type": "execute_result"
    }
   ],
   "source": [
    "from docx import Document\n",
    "from win32com import client as wc\n",
    "import os\n",
    "\n",
    "def test():\n",
    "    doc=Document('./1-输电线路（74+46+103）224/111-济南-220kV黄济线046-047故障分析报告-重合不成-外力破坏-异物短路-20160910.docx')\n",
    "    t=doc.tables[1]\n",
    "    for r in t.rows:\n",
    "        for c in r.cells:\n",
    "            print(c.text)\n",
    "        print('---->')\n",
    "    #print len(t.rows),len(t.columns),t.rows[0].cells[-1].text,t.rows[2].cells[-1].text\n",
    "\n",
    "def transfrom(word,file,outfile,data_type=16):\n",
    "    '''\n",
    "    word=wc.Dispatch(\"Word.Application\")\n",
    "    file:输入doc文件的绝对路径\n",
    "    outfile:输出docx文件的绝对路径\n",
    "    0表示失败，1表示成功\n",
    "    '''\n",
    "    if file[0]=='.' or (file[-4:]!='.doc' and file[-5:]!='.docx'):\n",
    "        print(file+'\\n文件名异常!')\n",
    "        return 0\n",
    "    try:\n",
    "        doc=word.Documents.Open(file)\n",
    "        doc.SaveAs(outfile,data_type)\n",
    "        doc.Close()\n",
    "    except Exception as e:\n",
    "        print(e)\n",
    "        print(file)\n",
    "        print(outfile)\n",
    "        return 1\n",
    "    return 0\n",
    "\n",
    "\n",
    "def doc_transform(dirname, type='docx'):\n",
    "    word=wc.Dispatch(\"Word.Application\")\n",
    "    data_type=16\n",
    "    if type=='txt':\n",
    "        data_type=4\n",
    "    file_path = dirname + \"/original\"\n",
    "    file_names = os.listdir(file_path)\n",
    "\n",
    "    for file in filenames:\n",
    "        if file[-4:]=='.doc':\n",
    "            if type=='docx':\n",
    "                outfile=dirname+'/docx/'+file+'x'\n",
    "            elif type=='txt':\n",
    "                outfile=dirname+'/newdir/'+file[:-3]+'txt'\n",
    "        elif file[-5:]=='.docx':\n",
    "            if type=='docx':\n",
    "                outfile=dirname+'/docx/'+file\n",
    "            elif type=='txt':\n",
    "                outfile=dirname+'/newdir/'+file[:-4]+'txt'\n",
    "        error_count+=transfrom(word,file_path+'/'+file,outfile,data_type)\n",
    "    word.Quit()\n",
    "    print('doc转换失败数量:'+error_count)\n",
    "\n",
    "\"\"\"\n",
    "if __name__=='__main__':\n",
    "    import sys\n",
    "    if len(sys.argv)>2:\n",
    "        print('参数数目异常!')\n",
    "    else:\n",
    "        if len(sys.argv)==2:\n",
    "            doc_transform(sys.argv[1])\n",
    "            doc_transform(sys.argv[1], type=\"txt\")\n",
    "        else:\n",
    "            doc_transform()\n",
    "\"\"\""
   ]
  },
  {
   "cell_type": "code",
   "execution_count": 2,
   "metadata": {
    "collapsed": true
   },
   "outputs": [],
   "source": [
    "dirname = \"C:/Users/zzs/Documents/GitHub/platform/src/main/webappfiles/Project/TemplateFill/test/original\""
   ]
  },
  {
   "cell_type": "code",
   "execution_count": 3,
   "metadata": {
    "collapsed": false
   },
   "outputs": [
    {
     "data": {
      "text/plain": [
       "['1_江苏_220千伏桃晓2571线_26塔耐张线夹发热.docx',\n",
       " '1_泰安_220kV丰铁线故障分析报告_重合闸未投_鸟害_20160105.docx',\n",
       " '1_烟台_220kV牟北线故障分析报告_重合不成_其他_20150105.docx']"
      ]
     },
     "execution_count": 3,
     "metadata": {},
     "output_type": "execute_result"
    }
   ],
   "source": [
    "os.listdir(dirname)"
   ]
  }
 ],
 "metadata": {
  "kernelspec": {
   "display_name": "Python 3",
   "language": "python",
   "name": "python3"
  },
  "language_info": {
   "codemirror_mode": {
    "name": "ipython",
    "version": 3
   },
   "file_extension": ".py",
   "mimetype": "text/x-python",
   "name": "python",
   "nbconvert_exporter": "python",
   "pygments_lexer": "ipython3",
   "version": "3.6.0"
  }
 },
 "nbformat": 4,
 "nbformat_minor": 2
}
